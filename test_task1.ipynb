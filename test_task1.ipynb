{
 "cells": [
  {
   "cell_type": "markdown",
   "id": "4c77a42c",
   "metadata": {},
   "source": [
    "## 1. Вопросы:\n",
    "1) Как хорошо Вы владеете Python? Оцените свой уровень по шкале от 0 до 10, где 0 - совсем не знаю, 10 - владею в совершенстве. Объясните, почему Вы выбрали такой балл. <br>\n",
    "\n",
    "***Ответ:*** Я владею Python на 4. Знаю язык применительно анализа данных. Я хорошо работаю с данными. Уверенно пользуюсь pandas для обработки датасетов. Умею визуализировать с помощью matplotlib, seaborn, plotly и folium.\n",
    "\n",
    "2) Насколько хорошо Вы знакомы с Google Sheets? Оцените свой уровень по шкале от 0 до 10, где 0 - совсем не знаю, 10 - владею в совершенстве. Объясните, почему Вы выбрали такой балл.<br>\n",
    "\n",
    "***Ответ:*** Я владею Google Sheets на 7. Я умею писать базовые формулы, проводить расчеты, составлять собственные таблицы. Умею визуализировать данные, хорошо работаю с диаграммами"
   ]
  },
  {
   "cell_type": "markdown",
   "id": "ed917944",
   "metadata": {},
   "source": [
    "## 2. Задачи на логику:\n",
    "1) Рекламная кампания стартовала вчера с дневным бюджетом 40 \\$. Половина бюджета была израсходована к полудню, а 80\\% оставшегося бюджета было потрачено между полуднем и временем закрытия. Сколько долларов не было потрачено? <br>\n",
    "\n",
    "***Решение:*** 4\\$<br>\n",
    "\n",
    "2) 5 идентичных рекламных кампаний работали 24 дня по 6 часов в день, потрачено было 120 долларов. Сколько дней они работали бы на 216 долларов, если бы 9 одинаковых кампаний работали бы по 8 часов в день?<br>\n",
    "\n",
    "***Решение:*** 18 дней<br>\n",
    "\n",
    "3) Дизайнеры создали 200 рекламных баннеров для двух рекламных кампаний. 80 из них не использовались ни в кампании №1, ни в кампании №2, 60 использовались только в кампании №1. И для каждого рекламного баннера, который использовался в обеих кампаниях, приходится 3 баннера, которые использовались только в кампании №2. Сколько баннеров было использовано в обеих рекламных кампаниях?<br>\n",
    "\n",
    "***Решение:*** 15 баннеров<br>\n",
    "\n",
    "4) Энн использует Instagram, но не Facebook, а Джон использует Youtube и Facebook. Кейт использует Youtube, но не Instagram, а Том использует Facebook, но не Youtube. Если каждый человек использует две из трех социальных сетей, у кого предпочтения совпадают? <br>\n",
    "\n",
    "***Решение:*** Джон и Кейт <br>\n",
    "\n",
    "5) Средний итоговый балл стажера по 4 модулям составляет 78 баллов. Сколько баллов должен получить стажер за 5-й модуль, чтобы средний балл по всему заданию составил 80? <br>\n",
    "\n",
    "***Решение:*** 82 балла <br>\n",
    "\n",
    "6) Заказанные в приложении товары доставляются на автомобиле. Автомобиль проезжает 260 км со средней скоростью 80 км / ч. На обратном пути машина движется со средней скоростью 100 км / ч. Насколько быстрее был обратный путь? Ответ указать в минутах.<br>\n",
    "\n",
    "***Решение:*** 39 минут <br>"
   ]
  },
  {
   "cell_type": "markdown",
   "id": "7dfb21f8",
   "metadata": {},
   "source": [
    "## 3. Техническое задание\n",
    "Техническое задание полностью выполняется с помощью языка программирования\n",
    "Python. В таблице Excel НЕЛЬЗЯ вносить какие-либо изменения вручную. <br>\n",
    "В файле «data.xlsx» представлены данные по поступлению денежных средств от\n",
    "клиентов компании N за покупку ее услуг.\n",
    "Имеющиеся поля:\n",
    "* client_id - ID клиента;\n",
    "* sum – сумма денежных средств;\n",
    "* status – статус оплаты;\n",
    "* sale – менеджер, заключивший сделку;\n",
    "* new/current – статус сделки;\n",
    "* document – наличие оригинала подписанного договора с клиентом;\n",
    "* receiving_date – дата получения оригинала договора.\n",
    "#### Вопросы:\n",
    "1) Вычислите общую выручку за июль 2021 по тем сделкам, приход денежных\n",
    "средств которых не просрочен.\n",
    "2) Как изменялась выручка компании за рассматриваемый период?\n",
    "Проиллюстрируйте графиком.\n",
    "3) Кто из менеджеров привлек для компании больше всего денежных средств в\n",
    "сентябре 2021?\n",
    "4) Какой тип сделок (новая/текущая) был преобладающим в октябре 2021?\n",
    "5) Сколько оригиналов договора по майским сделкам было получено в июне 2021?"
   ]
  },
  {
   "cell_type": "code",
   "execution_count": 1,
   "id": "412849a0",
   "metadata": {},
   "outputs": [],
   "source": [
    "import pandas as pd\n",
    "import seaborn as sns\n",
    "import matplotlib.pyplot as plt"
   ]
  },
  {
   "cell_type": "code",
   "execution_count": 2,
   "id": "147f8589",
   "metadata": {},
   "outputs": [],
   "source": [
    "# параметры для корректного отображения таблиц и более удобного их анализа\n",
    "pd.set_option('display.max_columns', 50) \n",
    "pd.set_option('display.max_rows', 500)"
   ]
  },
  {
   "cell_type": "code",
   "execution_count": 3,
   "id": "c481c420",
   "metadata": {},
   "outputs": [],
   "source": [
    "df = pd.read_excel(r'A:\\Users\\parol\\Рабочий стол\\тестовое topface media\\data.xlsx')"
   ]
  },
  {
   "cell_type": "markdown",
   "id": "990f130b",
   "metadata": {},
   "source": [
    "Ознакомимся с датасетом и подготовим его к работе (уберем дубилкаты и пустые строки)"
   ]
  },
  {
   "cell_type": "code",
   "execution_count": 4,
   "id": "72618132",
   "metadata": {},
   "outputs": [],
   "source": [
    "# функция для отображения часто используемых запросов\n",
    "def info(df):\n",
    "    display(df.head())\n",
    "    display(df.info())\n",
    "    display(df.isna().sum())\n",
    "    display(df.duplicated().sum())"
   ]
  },
  {
   "cell_type": "code",
   "execution_count": 5,
   "id": "6d2cc898",
   "metadata": {},
   "outputs": [
    {
     "data": {
      "text/html": [
       "<div>\n",
       "<style scoped>\n",
       "    .dataframe tbody tr th:only-of-type {\n",
       "        vertical-align: middle;\n",
       "    }\n",
       "\n",
       "    .dataframe tbody tr th {\n",
       "        vertical-align: top;\n",
       "    }\n",
       "\n",
       "    .dataframe thead th {\n",
       "        text-align: right;\n",
       "    }\n",
       "</style>\n",
       "<table border=\"1\" class=\"dataframe\">\n",
       "  <thead>\n",
       "    <tr style=\"text-align: right;\">\n",
       "      <th></th>\n",
       "      <th>client_id</th>\n",
       "      <th>sum</th>\n",
       "      <th>status</th>\n",
       "      <th>sale</th>\n",
       "      <th>new/current</th>\n",
       "      <th>Unnamed: 5</th>\n",
       "      <th>document</th>\n",
       "      <th>receiving_date</th>\n",
       "    </tr>\n",
       "  </thead>\n",
       "  <tbody>\n",
       "    <tr>\n",
       "      <th>0</th>\n",
       "      <td>NaN</td>\n",
       "      <td>NaN</td>\n",
       "      <td>Май 2021</td>\n",
       "      <td>NaN</td>\n",
       "      <td>NaN</td>\n",
       "      <td>NaN</td>\n",
       "      <td>NaN</td>\n",
       "      <td>NaN</td>\n",
       "    </tr>\n",
       "    <tr>\n",
       "      <th>1</th>\n",
       "      <td>6.0</td>\n",
       "      <td>11693.7</td>\n",
       "      <td>ВНУТРЕННИЙ</td>\n",
       "      <td>-</td>\n",
       "      <td>-</td>\n",
       "      <td>NaN</td>\n",
       "      <td>-</td>\n",
       "      <td>-</td>\n",
       "    </tr>\n",
       "    <tr>\n",
       "      <th>2</th>\n",
       "      <td>14.0</td>\n",
       "      <td>5452.7</td>\n",
       "      <td>ОПЛАЧЕНО</td>\n",
       "      <td>Петрова</td>\n",
       "      <td>новая</td>\n",
       "      <td>NaN</td>\n",
       "      <td>оригинал</td>\n",
       "      <td>2021-07-26 00:00:00</td>\n",
       "    </tr>\n",
       "    <tr>\n",
       "      <th>3</th>\n",
       "      <td>15.0</td>\n",
       "      <td>13991.7</td>\n",
       "      <td>ОПЛАЧЕНО</td>\n",
       "      <td>Иванов</td>\n",
       "      <td>текущая</td>\n",
       "      <td>NaN</td>\n",
       "      <td>оригинал</td>\n",
       "      <td>2021-06-08 00:00:00</td>\n",
       "    </tr>\n",
       "    <tr>\n",
       "      <th>4</th>\n",
       "      <td>16.0</td>\n",
       "      <td>719.7</td>\n",
       "      <td>ОПЛАЧЕНО</td>\n",
       "      <td>Иванов</td>\n",
       "      <td>текущая</td>\n",
       "      <td>NaN</td>\n",
       "      <td>оригинал</td>\n",
       "      <td>2021-06-08 00:00:00</td>\n",
       "    </tr>\n",
       "  </tbody>\n",
       "</table>\n",
       "</div>"
      ],
      "text/plain": [
       "   client_id      sum      status     sale new/current  Unnamed: 5  document  \\\n",
       "0        NaN      NaN    Май 2021      NaN         NaN         NaN       NaN   \n",
       "1        6.0  11693.7  ВНУТРЕННИЙ        -           -         NaN         -   \n",
       "2       14.0   5452.7    ОПЛАЧЕНО  Петрова       новая         NaN  оригинал   \n",
       "3       15.0  13991.7    ОПЛАЧЕНО   Иванов     текущая         NaN  оригинал   \n",
       "4       16.0    719.7    ОПЛАЧЕНО   Иванов     текущая         NaN  оригинал   \n",
       "\n",
       "        receiving_date  \n",
       "0                  NaN  \n",
       "1                    -  \n",
       "2  2021-07-26 00:00:00  \n",
       "3  2021-06-08 00:00:00  \n",
       "4  2021-06-08 00:00:00  "
      ]
     },
     "metadata": {},
     "output_type": "display_data"
    },
    {
     "name": "stdout",
     "output_type": "stream",
     "text": [
      "<class 'pandas.core.frame.DataFrame'>\n",
      "RangeIndex: 730 entries, 0 to 729\n",
      "Data columns (total 8 columns):\n",
      " #   Column          Non-Null Count  Dtype  \n",
      "---  ------          --------------  -----  \n",
      " 0   client_id       724 non-null    float64\n",
      " 1   sum             724 non-null    float64\n",
      " 2   status          730 non-null    object \n",
      " 3   sale            724 non-null    object \n",
      " 4   new/current     724 non-null    object \n",
      " 5   Unnamed: 5      0 non-null      float64\n",
      " 6   document        709 non-null    object \n",
      " 7   receiving_date  607 non-null    object \n",
      "dtypes: float64(3), object(5)\n",
      "memory usage: 45.8+ KB\n"
     ]
    },
    {
     "data": {
      "text/plain": [
       "None"
      ]
     },
     "metadata": {},
     "output_type": "display_data"
    },
    {
     "data": {
      "text/plain": [
       "client_id           6\n",
       "sum                 6\n",
       "status              0\n",
       "sale                6\n",
       "new/current         6\n",
       "Unnamed: 5        730\n",
       "document           21\n",
       "receiving_date    123\n",
       "dtype: int64"
      ]
     },
     "metadata": {},
     "output_type": "display_data"
    },
    {
     "data": {
      "text/plain": [
       "33"
      ]
     },
     "metadata": {},
     "output_type": "display_data"
    }
   ],
   "source": [
    "# смотрим дубликаты и NaN \n",
    "info(df)"
   ]
  },
  {
   "cell_type": "code",
   "execution_count": 6,
   "id": "b8e996a1",
   "metadata": {},
   "outputs": [],
   "source": [
    "# убираем пустую шестую колонку и колонку с тестовым клиентом\n",
    "df = df.drop(df.columns[[5]], axis=1)\n",
    "df = df.query('status != \"ВНУТРЕННИЙ\"')"
   ]
  },
  {
   "cell_type": "code",
   "execution_count": 7,
   "id": "de70a9aa",
   "metadata": {},
   "outputs": [
    {
     "data": {
      "text/html": [
       "<div>\n",
       "<style scoped>\n",
       "    .dataframe tbody tr th:only-of-type {\n",
       "        vertical-align: middle;\n",
       "    }\n",
       "\n",
       "    .dataframe tbody tr th {\n",
       "        vertical-align: top;\n",
       "    }\n",
       "\n",
       "    .dataframe thead th {\n",
       "        text-align: right;\n",
       "    }\n",
       "</style>\n",
       "<table border=\"1\" class=\"dataframe\">\n",
       "  <thead>\n",
       "    <tr style=\"text-align: right;\">\n",
       "      <th></th>\n",
       "      <th>client_id</th>\n",
       "      <th>sum</th>\n",
       "      <th>status</th>\n",
       "      <th>sale</th>\n",
       "      <th>new/current</th>\n",
       "      <th>document</th>\n",
       "      <th>receiving_date</th>\n",
       "    </tr>\n",
       "  </thead>\n",
       "  <tbody>\n",
       "    <tr>\n",
       "      <th>0</th>\n",
       "      <td>NaN</td>\n",
       "      <td>NaN</td>\n",
       "      <td>Май 2021</td>\n",
       "      <td>NaN</td>\n",
       "      <td>NaN</td>\n",
       "      <td>NaN</td>\n",
       "      <td>NaN</td>\n",
       "    </tr>\n",
       "    <tr>\n",
       "      <th>129</th>\n",
       "      <td>NaN</td>\n",
       "      <td>NaN</td>\n",
       "      <td>Июнь 2021</td>\n",
       "      <td>NaN</td>\n",
       "      <td>NaN</td>\n",
       "      <td>NaN</td>\n",
       "      <td>NaN</td>\n",
       "    </tr>\n",
       "    <tr>\n",
       "      <th>258</th>\n",
       "      <td>NaN</td>\n",
       "      <td>NaN</td>\n",
       "      <td>Июль 2021</td>\n",
       "      <td>NaN</td>\n",
       "      <td>NaN</td>\n",
       "      <td>NaN</td>\n",
       "      <td>NaN</td>\n",
       "    </tr>\n",
       "    <tr>\n",
       "      <th>369</th>\n",
       "      <td>NaN</td>\n",
       "      <td>NaN</td>\n",
       "      <td>Август 2021</td>\n",
       "      <td>NaN</td>\n",
       "      <td>NaN</td>\n",
       "      <td>NaN</td>\n",
       "      <td>NaN</td>\n",
       "    </tr>\n",
       "    <tr>\n",
       "      <th>484</th>\n",
       "      <td>NaN</td>\n",
       "      <td>NaN</td>\n",
       "      <td>Сентябрь 2021</td>\n",
       "      <td>NaN</td>\n",
       "      <td>NaN</td>\n",
       "      <td>NaN</td>\n",
       "      <td>NaN</td>\n",
       "    </tr>\n",
       "    <tr>\n",
       "      <th>594</th>\n",
       "      <td>NaN</td>\n",
       "      <td>NaN</td>\n",
       "      <td>Октябрь 2021</td>\n",
       "      <td>NaN</td>\n",
       "      <td>NaN</td>\n",
       "      <td>NaN</td>\n",
       "      <td>NaN</td>\n",
       "    </tr>\n",
       "  </tbody>\n",
       "</table>\n",
       "</div>"
      ],
      "text/plain": [
       "     client_id  sum         status sale new/current document receiving_date\n",
       "0          NaN  NaN       Май 2021  NaN         NaN      NaN            NaN\n",
       "129        NaN  NaN      Июнь 2021  NaN         NaN      NaN            NaN\n",
       "258        NaN  NaN      Июль 2021  NaN         NaN      NaN            NaN\n",
       "369        NaN  NaN    Август 2021  NaN         NaN      NaN            NaN\n",
       "484        NaN  NaN  Сентябрь 2021  NaN         NaN      NaN            NaN\n",
       "594        NaN  NaN   Октябрь 2021  NaN         NaN      NaN            NaN"
      ]
     },
     "execution_count": 7,
     "metadata": {},
     "output_type": "execute_result"
    }
   ],
   "source": [
    "# смотрим, как выглядят 6 пустых строк по столбцу client_id\n",
    "df[df['client_id'].isna()]"
   ]
  },
  {
   "cell_type": "code",
   "execution_count": 8,
   "id": "f8271471",
   "metadata": {},
   "outputs": [],
   "source": [
    "# изабавляемся от пустых строк\n",
    "df = df.dropna(subset=['client_id'])"
   ]
  },
  {
   "cell_type": "code",
   "execution_count": 9,
   "id": "2526ae55",
   "metadata": {
    "scrolled": false
   },
   "outputs": [
    {
     "data": {
      "text/html": [
       "<div>\n",
       "<style scoped>\n",
       "    .dataframe tbody tr th:only-of-type {\n",
       "        vertical-align: middle;\n",
       "    }\n",
       "\n",
       "    .dataframe tbody tr th {\n",
       "        vertical-align: top;\n",
       "    }\n",
       "\n",
       "    .dataframe thead th {\n",
       "        text-align: right;\n",
       "    }\n",
       "</style>\n",
       "<table border=\"1\" class=\"dataframe\">\n",
       "  <thead>\n",
       "    <tr style=\"text-align: right;\">\n",
       "      <th></th>\n",
       "      <th>client_id</th>\n",
       "      <th>sum</th>\n",
       "      <th>status</th>\n",
       "      <th>sale</th>\n",
       "      <th>new/current</th>\n",
       "      <th>document</th>\n",
       "      <th>receiving_date</th>\n",
       "    </tr>\n",
       "  </thead>\n",
       "  <tbody>\n",
       "    <tr>\n",
       "      <th>18</th>\n",
       "      <td>43.0</td>\n",
       "      <td>1961.2</td>\n",
       "      <td>ОПЛАЧЕНО</td>\n",
       "      <td>Селиванов</td>\n",
       "      <td>текущая</td>\n",
       "      <td>оригинал</td>\n",
       "      <td>2021-07-27 00:00:00</td>\n",
       "    </tr>\n",
       "    <tr>\n",
       "      <th>19</th>\n",
       "      <td>43.0</td>\n",
       "      <td>1961.2</td>\n",
       "      <td>ОПЛАЧЕНО</td>\n",
       "      <td>Селиванов</td>\n",
       "      <td>текущая</td>\n",
       "      <td>оригинал</td>\n",
       "      <td>2021-07-27 00:00:00</td>\n",
       "    </tr>\n",
       "    <tr>\n",
       "      <th>51</th>\n",
       "      <td>95.0</td>\n",
       "      <td>4688.7</td>\n",
       "      <td>ОПЛАЧЕНО</td>\n",
       "      <td>Андреев</td>\n",
       "      <td>текущая</td>\n",
       "      <td>оригинал</td>\n",
       "      <td>2021-05-18 00:00:00</td>\n",
       "    </tr>\n",
       "    <tr>\n",
       "      <th>52</th>\n",
       "      <td>96.0</td>\n",
       "      <td>1266.2</td>\n",
       "      <td>ОПЛАЧЕНО</td>\n",
       "      <td>Васильев</td>\n",
       "      <td>текущая</td>\n",
       "      <td>оригинал</td>\n",
       "      <td>2021-07-16 00:00:00</td>\n",
       "    </tr>\n",
       "    <tr>\n",
       "      <th>53</th>\n",
       "      <td>96.0</td>\n",
       "      <td>1266.2</td>\n",
       "      <td>ОПЛАЧЕНО</td>\n",
       "      <td>Васильев</td>\n",
       "      <td>текущая</td>\n",
       "      <td>оригинал</td>\n",
       "      <td>2021-07-16 00:00:00</td>\n",
       "    </tr>\n",
       "    <tr>\n",
       "      <th>90</th>\n",
       "      <td>194.0</td>\n",
       "      <td>3902.7</td>\n",
       "      <td>ОПЛАЧЕНО</td>\n",
       "      <td>Иванов</td>\n",
       "      <td>текущая</td>\n",
       "      <td>оригинал</td>\n",
       "      <td>2021-07-16 00:00:00</td>\n",
       "    </tr>\n",
       "    <tr>\n",
       "      <th>91</th>\n",
       "      <td>194.0</td>\n",
       "      <td>9834.7</td>\n",
       "      <td>ОПЛАЧЕНО</td>\n",
       "      <td>Иванов</td>\n",
       "      <td>текущая</td>\n",
       "      <td>оригинал</td>\n",
       "      <td>2021-07-16 00:00:00</td>\n",
       "    </tr>\n",
       "    <tr>\n",
       "      <th>97</th>\n",
       "      <td>204.0</td>\n",
       "      <td>1473.7</td>\n",
       "      <td>ОПЛАЧЕНО</td>\n",
       "      <td>Андреев</td>\n",
       "      <td>текущая</td>\n",
       "      <td>оригинал</td>\n",
       "      <td>2021-07-01 00:00:00</td>\n",
       "    </tr>\n",
       "    <tr>\n",
       "      <th>98</th>\n",
       "      <td>204.0</td>\n",
       "      <td>1473.7</td>\n",
       "      <td>ОПЛАЧЕНО</td>\n",
       "      <td>Андреев</td>\n",
       "      <td>текущая</td>\n",
       "      <td>оригинал</td>\n",
       "      <td>2021-07-01 00:00:00</td>\n",
       "    </tr>\n",
       "    <tr>\n",
       "      <th>103</th>\n",
       "      <td>228.0</td>\n",
       "      <td>1933.7</td>\n",
       "      <td>ОПЛАЧЕНО</td>\n",
       "      <td>Смирнов</td>\n",
       "      <td>текущая</td>\n",
       "      <td>оригинал</td>\n",
       "      <td>2021-07-13 00:00:00</td>\n",
       "    </tr>\n",
       "    <tr>\n",
       "      <th>104</th>\n",
       "      <td>228.0</td>\n",
       "      <td>6393.7</td>\n",
       "      <td>ОПЛАЧЕНО</td>\n",
       "      <td>Смирнов</td>\n",
       "      <td>текущая</td>\n",
       "      <td>оригинал</td>\n",
       "      <td>2021-07-13 00:00:00</td>\n",
       "    </tr>\n",
       "    <tr>\n",
       "      <th>138</th>\n",
       "      <td>30.0</td>\n",
       "      <td>3833.7</td>\n",
       "      <td>ОПЛАЧЕНО</td>\n",
       "      <td>Филимонова</td>\n",
       "      <td>текущая</td>\n",
       "      <td>оригинал</td>\n",
       "      <td>2021-09-27 00:00:00</td>\n",
       "    </tr>\n",
       "    <tr>\n",
       "      <th>147</th>\n",
       "      <td>46.0</td>\n",
       "      <td>4945.7</td>\n",
       "      <td>ОПЛАЧЕНО</td>\n",
       "      <td>Петрова</td>\n",
       "      <td>текущая</td>\n",
       "      <td>оригинал</td>\n",
       "      <td>2021-09-06 00:00:00</td>\n",
       "    </tr>\n",
       "    <tr>\n",
       "      <th>148</th>\n",
       "      <td>47.0</td>\n",
       "      <td>4449.7</td>\n",
       "      <td>ОПЛАЧЕНО</td>\n",
       "      <td>Петрова</td>\n",
       "      <td>текущая</td>\n",
       "      <td>оригинал</td>\n",
       "      <td>2021-09-06 00:00:00</td>\n",
       "    </tr>\n",
       "    <tr>\n",
       "      <th>150</th>\n",
       "      <td>49.0</td>\n",
       "      <td>7203.7</td>\n",
       "      <td>ОПЛАЧЕНО</td>\n",
       "      <td>Петрова</td>\n",
       "      <td>текущая</td>\n",
       "      <td>оригинал</td>\n",
       "      <td>2021-09-06 00:00:00</td>\n",
       "    </tr>\n",
       "  </tbody>\n",
       "</table>\n",
       "</div>"
      ],
      "text/plain": [
       "     client_id     sum    status        sale new/current  document  \\\n",
       "18        43.0  1961.2  ОПЛАЧЕНО   Селиванов     текущая  оригинал   \n",
       "19        43.0  1961.2  ОПЛАЧЕНО   Селиванов     текущая  оригинал   \n",
       "51        95.0  4688.7  ОПЛАЧЕНО     Андреев     текущая  оригинал   \n",
       "52        96.0  1266.2  ОПЛАЧЕНО    Васильев     текущая  оригинал   \n",
       "53        96.0  1266.2  ОПЛАЧЕНО    Васильев     текущая  оригинал   \n",
       "90       194.0  3902.7  ОПЛАЧЕНО      Иванов     текущая  оригинал   \n",
       "91       194.0  9834.7  ОПЛАЧЕНО      Иванов     текущая  оригинал   \n",
       "97       204.0  1473.7  ОПЛАЧЕНО     Андреев     текущая  оригинал   \n",
       "98       204.0  1473.7  ОПЛАЧЕНО     Андреев     текущая  оригинал   \n",
       "103      228.0  1933.7  ОПЛАЧЕНО     Смирнов     текущая  оригинал   \n",
       "104      228.0  6393.7  ОПЛАЧЕНО     Смирнов     текущая  оригинал   \n",
       "138       30.0  3833.7  ОПЛАЧЕНО  Филимонова     текущая  оригинал   \n",
       "147       46.0  4945.7  ОПЛАЧЕНО     Петрова     текущая  оригинал   \n",
       "148       47.0  4449.7  ОПЛАЧЕНО     Петрова     текущая  оригинал   \n",
       "150       49.0  7203.7  ОПЛАЧЕНО     Петрова     текущая  оригинал   \n",
       "\n",
       "          receiving_date  \n",
       "18   2021-07-27 00:00:00  \n",
       "19   2021-07-27 00:00:00  \n",
       "51   2021-05-18 00:00:00  \n",
       "52   2021-07-16 00:00:00  \n",
       "53   2021-07-16 00:00:00  \n",
       "90   2021-07-16 00:00:00  \n",
       "91   2021-07-16 00:00:00  \n",
       "97   2021-07-01 00:00:00  \n",
       "98   2021-07-01 00:00:00  \n",
       "103  2021-07-13 00:00:00  \n",
       "104  2021-07-13 00:00:00  \n",
       "138  2021-09-27 00:00:00  \n",
       "147  2021-09-06 00:00:00  \n",
       "148  2021-09-06 00:00:00  \n",
       "150  2021-09-06 00:00:00  "
      ]
     },
     "execution_count": 9,
     "metadata": {},
     "output_type": "execute_result"
    }
   ],
   "source": [
    "df[df.duplicated(keep=False)].head(15)"
   ]
  },
  {
   "cell_type": "code",
   "execution_count": 10,
   "id": "482e5308",
   "metadata": {},
   "outputs": [],
   "source": [
    "# избавляемся от дубликатов с сохранением первого значения\n",
    "df = df.drop_duplicates(keep='first')"
   ]
  },
  {
   "cell_type": "code",
   "execution_count": 11,
   "id": "6f66f189",
   "metadata": {},
   "outputs": [],
   "source": [
    "# переводим столбец с датой в datetime и добавляем столбец с месяцем\n",
    "df[\"receiving_date\"] = pd.to_datetime(df[\"receiving_date\"])\n",
    "df[\"month\"] = df[\"receiving_date\"].dt.month"
   ]
  },
  {
   "cell_type": "markdown",
   "id": "92458a30",
   "metadata": {},
   "source": [
    "Убрали 6 пустых строк, где были только значения статуса и представлены они были в виде \"месяц год\", хотя везде значение вида \"ОПЛАЧЕНО\", \"ПРОСРОЧЕНО\" и тд. Также были убраны 33 дублирующие строки, чтобы не портить подсчеты. Также будет много работы с месяцами --> добавили столбец с месяцем"
   ]
  },
  {
   "cell_type": "markdown",
   "id": "3944fe4e",
   "metadata": {},
   "source": [
    "#### 1. Вычислите общую выручку за июль 2021 по тем сделкам, приход денежных средств которых не просрочен."
   ]
  },
  {
   "cell_type": "code",
   "execution_count": 12,
   "id": "943c8c3d",
   "metadata": {},
   "outputs": [
    {
     "name": "stdout",
     "output_type": "stream",
     "text": [
      "Общая выручка за июль 2021 года по тем сделкам, приход денежных средств которых не просрочен составила 729541.14\n"
     ]
    }
   ],
   "source": [
    "#Вычислите общую выручку за июль 2021 по тем сделкам, приход денежных средств которых не просрочен.\n",
    "income_july = df.query('status != \"ПРОСРОЧЕНО\" & month == 7')\n",
    "income_july = round(sum(income_july['sum']),2)\n",
    "print(f'Общая выручка за июль 2021 года по тем сделкам, приход денежных средств которых не просрочен составила {income_july}')"
   ]
  },
  {
   "cell_type": "markdown",
   "id": "c89f55d4",
   "metadata": {},
   "source": [
    "#### 2. Как изменялась выручка компании за рассматриваемый период?"
   ]
  },
  {
   "cell_type": "code",
   "execution_count": 13,
   "id": "bcf350ad",
   "metadata": {},
   "outputs": [
    {
     "data": {
      "text/plain": [
       "''"
      ]
     },
     "execution_count": 13,
     "metadata": {},
     "output_type": "execute_result"
    },
    {
     "data": {
      "image/png": "[encoded data removed]",
      "text/plain": [
       "<Figure size 640x480 with 1 Axes>"
      ]
     },
     "metadata": {},
     "output_type": "display_data"
    }
   ],
   "source": [
    "income_july = df.pivot_table(index='receiving_date', values='sum', aggfunc='sum')\n",
    "sns.lineplot(data= income_july)\n",
    "plt.title(\"Изменение выручки компании\")\n",
    "plt.xlabel('Дата')\n",
    "plt.ylabel('Выручка')\n",
    "plt.legend([],[], frameon=False)\n",
    ";"
   ]
  },
  {
   "cell_type": "markdown",
   "id": "9aa7cdd7",
   "metadata": {},
   "source": [
    "#### 3. Кто из менеджеров привлек для компании больше всего денежных средств в сентябре 2021?"
   ]
  },
  {
   "cell_type": "code",
   "execution_count": 14,
   "id": "9a74fd23",
   "metadata": {},
   "outputs": [],
   "source": [
    "most_impact = (df.query('month == 9')\n",
    "    .pivot_table(index='sale', values='sum', aggfunc='sum')\n",
    ")"
   ]
  },
  {
   "cell_type": "code",
   "execution_count": 15,
   "id": "d939afb7",
   "metadata": {},
   "outputs": [
    {
     "name": "stdout",
     "output_type": "stream",
     "text": [
      "Больше всего средств привлек менеджер Андреев\n"
     ]
    }
   ],
   "source": [
    "print(f'Больше всего средств привлек менеджер {most_impact.first_valid_index()}')"
   ]
  },
  {
   "cell_type": "markdown",
   "id": "4a673777",
   "metadata": {},
   "source": [
    "#### 4. Какой тип сделок (новая/текущая) был преобладающим в октябре 2021?"
   ]
  },
  {
   "cell_type": "code",
   "execution_count": 16,
   "id": "28b7c31f",
   "metadata": {},
   "outputs": [],
   "source": [
    "month10 = df.query('month == 10')\n",
    "most_popular = month10['new/current'].value_counts()"
   ]
  },
  {
   "cell_type": "code",
   "execution_count": 17,
   "id": "7b473851",
   "metadata": {},
   "outputs": [
    {
     "name": "stdout",
     "output_type": "stream",
     "text": [
      "Преобладающим типом сделок в октябре является \"текущая\"\n"
     ]
    }
   ],
   "source": [
    "print(f'Преобладающим типом сделок в октябре является \"{most_popular.first_valid_index()}\"')"
   ]
  },
  {
   "cell_type": "markdown",
   "id": "39dfbf52",
   "metadata": {},
   "source": [
    "#### 5. Сколько оригиналов договора по майским сделкам было получено в июне 2021?"
   ]
  },
  {
   "cell_type": "code",
   "execution_count": 18,
   "id": "901f9562",
   "metadata": {},
   "outputs": [
    {
     "name": "stdout",
     "output_type": "stream",
     "text": [
      "В июне 2021 года было получено 72 оригинала договора\n"
     ]
    }
   ],
   "source": [
    "original = df[(df['new/current'] == 'текущая') & (df['month'] == 6) & (df['document'] == 'оригинал')]\n",
    "print(f'В июне 2021 года было получено {original[\"document\"].count()} оригинала договора')"
   ]
  },
  {
   "cell_type": "markdown",
   "id": "4a14acde",
   "metadata": {},
   "source": [
    "### Задание:\n",
    "За каждую заключенную сделку менеджер получает бонус, который рассчитывается\n",
    "следующим образом.\n",
    "1) За новые сделки менеджер получает 7 % от суммы, при условии, что статус\n",
    "оплаты «ОПЛАЧЕНО», а также имеется оригинал подписанного договора с\n",
    "клиентом (в рассматриваемом месяце).\n",
    "2) За текущие сделки менеджер получает 5 % от суммы, если она больше 10 тыс.,\n",
    "и 3 % от суммы, если меньше. При этом статус оплаты может быть любым,\n",
    "кроме «ПРОСРОЧЕНО», а также необходимо наличие оригинала подписанного\n",
    "договора с клиентом (в рассматриваемом месяце).\n",
    "Бонусы по сделкам, оригиналы для которых приходят позже рассматриваемого\n",
    "месяца, считаются остатком на следующий период, который выплачивается по мере\n",
    "прихода оригиналов. Вычислите остаток каждого из менеджеров на 01.07.2021."
   ]
  },
  {
   "cell_type": "code",
   "execution_count": 19,
   "id": "0eabf42f",
   "metadata": {},
   "outputs": [],
   "source": [
    "# делаем функцию для перебора значений по менеджерам\n",
    "def manager(manager):\n",
    "    new_query = df[(df['new/current'] == 'новая') & (df['receiving_date']<= '2021-07-01') & (df['document'] != 'оригинал') \\\n",
    "                    & (df['sale'] == manager)]\n",
    "    current_more_ten = df[(df['new/current'] == 'текущая') & (df['receiving_date']<= '2021-07-01') & (df['document'] != 'оригинал')\\\n",
    "                            & (df['sum'] > 10000) & (df['sale'] == manager)]\n",
    "    current_less_ten = df[(df['new/current'] == 'текущая') & (df['receiving_date']<= '2021-07-01') & (df['document'] != 'оригинал') \\\n",
    "                          & (df['sum'] < 10000) & (df['sale'] == manager)]\n",
    "    seven = 0\n",
    "    #считаем количество строк, которые были отфильтрованы по условию\n",
    "    for i in range(new_query[\"sum\"].count()):\n",
    "    # задаем условие, по которому считается процент от новых сделок\n",
    "        seven += new_query[\"sum\"].values[0].item()*0.07\n",
    "    five = 0\n",
    "    #считаем количество строк, которые были отфильтрованы по условию\n",
    "    for i in range(current_more_ten[\"sum\"].count()):\n",
    "    # задаем условие, по которому считается процент от сделок, если больше 10 тыс.\n",
    "        five += current_more_ten[\"sum\"].values[0].item()*0.05\n",
    "    three = 0\n",
    "    #считаем количество строк, которые были отфильтрованы по условию\n",
    "    for i in range(current_less_ten[\"sum\"].count()):\n",
    "    # задаем условие, по которому считается процент от сделок, если меньше 10 тыс.\n",
    "        three += current_less_ten[\"sum\"].values[0].item()*0.03\n",
    "     #считаем сумму трех видов сделок   \n",
    "    summary = round(seven + five + three, 2)\n",
    "    return summary"
   ]
  },
  {
   "cell_type": "code",
   "execution_count": 20,
   "id": "566dfac1",
   "metadata": {},
   "outputs": [],
   "source": [
    "# создаем список менеджеров\n",
    "managers = list()\n",
    "for j in df['sale'].unique():\n",
    "    managers.append(j)"
   ]
  },
  {
   "cell_type": "code",
   "execution_count": 21,
   "id": "5fa9bee6",
   "metadata": {},
   "outputs": [],
   "source": [
    "# перебираем и создаем список со значениями остатков\n",
    "income_managers = []\n",
    "for j in df['sale'].unique():\n",
    "    income_managers.append(manager(j))"
   ]
  },
  {
   "cell_type": "code",
   "execution_count": 22,
   "id": "4dc0e853",
   "metadata": {},
   "outputs": [],
   "source": [
    "# делаем таблицу со значениями остатка по менеджерам\n",
    "managers_left_dict = {'Менеджеры':managers,'Остаток':income_managers}\n",
    "managers_income_left = pd.DataFrame(managers_left_dict)"
   ]
  },
  {
   "cell_type": "code",
   "execution_count": 23,
   "id": "6425fcdf",
   "metadata": {},
   "outputs": [
    {
     "name": "stdout",
     "output_type": "stream",
     "text": [
      "Таблица остатков по каждому менеджеру:\n",
      "     Менеджеры  Остаток\n",
      "0      Петрова     0.00\n",
      "1       Иванов     0.00\n",
      "2    Кузнецова     0.00\n",
      "3      Андреев     0.00\n",
      "4   Филимонова     0.00\n",
      "5    Селиванов     0.00\n",
      "6      Смирнов   830.17\n",
      "7     Васильев     0.00\n",
      "8      Соколов     0.00\n",
      "9     Михайлов     0.00\n",
      "10       Попов     0.00\n"
     ]
    }
   ],
   "source": [
    "print('Таблица остатков по каждому менеджеру:')\n",
    "print(managers_income_left)"
   ]
  },
  {
   "cell_type": "code",
   "execution_count": null,
   "id": "5fff5673",
   "metadata": {},
   "outputs": [],
   "source": []
  }
 ],
 "metadata": {
  "kernelspec": {
   "display_name": "Python 3 (ipykernel)",
   "language": "python",
   "name": "python3"
  },
  "language_info": {
   "codemirror_mode": {
    "name": "ipython",
    "version": 3
   },
   "file_extension": ".py",
   "mimetype": "text/x-python",
   "name": "python",
   "nbconvert_exporter": "python",
   "pygments_lexer": "ipython3",
   "version": "3.11.4"
  }
 },
 "nbformat": 4,
 "nbformat_minor": 5
}
